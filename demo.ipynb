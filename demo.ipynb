{
 "cells": [
  {
   "cell_type": "markdown",
   "metadata": {},
   "source": [
    "# Prolexa Demo\n",
    "This notebook showcases some functionality of a Prolog based logic engine. \n",
    "\n",
    "The engine can be interacted with directly from the command line, please see the instructions in [README.md](README.md)\n",
    "\n",
    "To run this notebook you must have [SWI-Prolog](https://formulae.brew.sh/formula/swi-prolog) installed. "
   ]
  },
  {
   "cell_type": "code",
   "execution_count": 1,
   "metadata": {},
   "outputs": [
    {
     "name": "stdout",
     "output_type": "stream",
     "text": [
      "\u001b[32m% Disabled autoloading (loaded 38 files)\n",
      "\u001b[0m\u001b[32m% Disabled autoloading (loaded 8 files)\n",
      "\u001b[0m\u001b[32m% Disabled autoloading (loaded 0 files)\n",
      "\u001b[0m"
     ]
    }
   ],
   "source": [
    "# Compiles the prolog/cli.pl file into a binary so it can be run via the command line\n",
    "!swipl --goal=cli -o prolog/cli -c prolog/cli.pl\n",
    "\n",
    "from prolog.cli_test import Cli\n",
    "\n",
    "cli = Cli()"
   ]
  },
  {
   "cell_type": "markdown",
   "metadata": {},
   "source": [
    "# Implication (modus ponens)"
   ]
  },
  {
   "cell_type": "code",
   "execution_count": 55,
   "metadata": {},
   "outputs": [
    {
     "name": "stdout",
     "output_type": "stream",
     "text": [
      "I will remember that.\n",
      "alice is mortal\n"
     ]
    }
   ],
   "source": [
    "# Clear stored facts\n",
    "cli.forget_all()\n",
    "\n",
    "# Add a new fact\n",
    "print(cli(\"alice is mortal\"))\n",
    "\n",
    "# Ask a question\n",
    "print(cli(\"is alice mortal\"))"
   ]
  },
  {
   "cell_type": "markdown",
   "metadata": {},
   "source": [
    "# Negation\n",
    "\n",
    "## Simple Negative Facts"
   ]
  },
  {
   "cell_type": "code",
   "execution_count": 8,
   "metadata": {},
   "outputs": [
    {
     "data": {
      "text/plain": [
       "'pixie is not blue'"
      ]
     },
     "execution_count": 8,
     "metadata": {},
     "output_type": "execute_result"
    }
   ],
   "source": [
    "cli.forget_all()\n",
    "cli(\"pixie is not blue\")\n",
    "cli(\"is pixie blue\")"
   ]
  },
  {
   "cell_type": "markdown",
   "metadata": {},
   "source": [
    "## Modus Tollens"
   ]
  },
  {
   "cell_type": "code",
   "execution_count": 46,
   "metadata": {},
   "outputs": [
    {
     "name": "stdout",
     "output_type": "stream",
     "text": [
      "donald is not a teacher\n",
      "donald is not happy, every teacher is happy, therefore donald is not a teacher\n"
     ]
    }
   ],
   "source": [
    "cli.forget_all()\n",
    "cli(\"every teacher is happy\")\n",
    "cli(\"donald is not happy\")\n",
    "print(cli(\"is donald a teacher\"))\n",
    "print(cli(\"explain why donald is not a teacher\"))"
   ]
  },
  {
   "cell_type": "markdown",
   "metadata": {},
   "source": [
    "# Disjunctions"
   ]
  },
  {
   "cell_type": "code",
   "execution_count": 47,
   "metadata": {},
   "outputs": [
    {
     "name": "stdout",
     "output_type": "stream",
     "text": [
      "pixie is green\n",
      "every pixel is red is green or is blue, pixie is a pixel, pixie is not red, pixie is not blue, therefore pixie is green\n"
     ]
    }
   ],
   "source": [
    "cli.forget_all()\n",
    "cli(\"pixie is a pixel\")\n",
    "cli(\"every pixel is red green or blue\")\n",
    "cli(\"pixie is not red\")\n",
    "cli(\"pixie is not blue\")\n",
    "print(cli(\"is pixie green\"))\n",
    "print(cli(\"explain why pixie is green\"))"
   ]
  },
  {
   "cell_type": "markdown",
   "metadata": {},
   "source": [
    "## Disjunctive Questions"
   ]
  },
  {
   "cell_type": "code",
   "execution_count": 48,
   "metadata": {},
   "outputs": [
    {
     "name": "stdout",
     "output_type": "stream",
     "text": [
      "pixie is red or is blue\n",
      "pixie is red, therefore pixie is red or is blue\n"
     ]
    }
   ],
   "source": [
    "cli.forget_all()\n",
    "cli(\"pixie is red\")\n",
    "print(cli(\"is pixie red or blue\"))\n",
    "print(cli(\"explain why pixie is red or blue\"))"
   ]
  },
  {
   "cell_type": "markdown",
   "metadata": {},
   "source": [
    "# Conjunctions"
   ]
  },
  {
   "cell_type": "code",
   "execution_count": 52,
   "metadata": {},
   "outputs": [
    {
     "name": "stdout",
     "output_type": "stream",
     "text": [
      "bob is human\n",
      "bob is blue\n",
      "every human is mortal is blue and does not fly, bob is human, therefore bob is mortal\n"
     ]
    }
   ],
   "source": [
    "cli.forget_all()\n",
    "cli(\"all humans are mortal are blue and do not fly\")\n",
    "cli(\"bob is human\")\n",
    "print(cli(\"is bob human\"))\n",
    "print(cli(\"is bob blue\"))\n",
    "print(cli(\"explain why bob is mortal\"))"
   ]
  },
  {
   "cell_type": "markdown",
   "metadata": {},
   "source": [
    "# Default Reasoning"
   ]
  },
  {
   "cell_type": "code",
   "execution_count": 53,
   "metadata": {},
   "outputs": [
    {
     "name": "stdout",
     "output_type": "stream",
     "text": [
      "it is likely that alice flies\n",
      "alice is a bird, most birds fly, therefore it is likely that alice flies\n"
     ]
    }
   ],
   "source": [
    "cli.forget_all()\n",
    "cli(\"most birds fly\")\n",
    "cli(\"alice is a bird\")\n",
    "print(cli(\"does alice fly\"))\n",
    "print(cli(\"explain why alice flies\"))"
   ]
  },
  {
   "cell_type": "markdown",
   "metadata": {},
   "source": [
    "# Existential Quantification"
   ]
  },
  {
   "cell_type": "code",
   "execution_count": 54,
   "metadata": {},
   "outputs": [
    {
     "name": "stdout",
     "output_type": "stream",
     "text": [
      "it could be that alice wins\n",
      "alice is human, some humans are geniuses, every genius wins, therefore it could be that alice wins\n"
     ]
    }
   ],
   "source": [
    "cli.forget_all()\n",
    "cli(\"alice is human\")\n",
    "cli(\"some humans are geniuses\")\n",
    "cli(\"every genius wins\")\n",
    "print(cli(\"does alice win\"))\n",
    "print(cli(\"explain why alice wins\"))"
   ]
  }
 ],
 "metadata": {
  "kernelspec": {
   "display_name": "Python 3",
   "language": "python",
   "name": "python3"
  },
  "language_info": {
   "codemirror_mode": {
    "name": "ipython",
    "version": 3
   },
   "file_extension": ".py",
   "mimetype": "text/x-python",
   "name": "python",
   "nbconvert_exporter": "python",
   "pygments_lexer": "ipython3",
   "version": "3.10.12"
  }
 },
 "nbformat": 4,
 "nbformat_minor": 2
}
